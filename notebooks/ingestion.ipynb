{
 "cells": [
  {
   "cell_type": "code",
   "execution_count": 1,
   "metadata": {},
   "outputs": [],
   "source": [
    "%load_ext autoreload\n",
    "%autoreload 2"
   ]
  },
  {
   "cell_type": "code",
   "execution_count": 4,
   "metadata": {},
   "outputs": [],
   "source": [
    "import sys \n",
    "sys.path.append('../')"
   ]
  },
  {
   "cell_type": "code",
   "execution_count": 5,
   "metadata": {},
   "outputs": [],
   "source": [
    "import polars as pl"
   ]
  },
  {
   "cell_type": "code",
   "execution_count": 7,
   "metadata": {},
   "outputs": [
    {
     "data": {
      "text/html": [
       "<div><style>\n",
       ".dataframe > thead > tr,\n",
       ".dataframe > tbody > tr {\n",
       "  text-align: right;\n",
       "  white-space: pre-wrap;\n",
       "}\n",
       "</style>\n",
       "<small>shape: (5, 6)</small><table border=\"1\" class=\"dataframe\"><thead><tr><th>rent_approval_date</th><th>town</th><th>block</th><th>street_name</th><th>flat_type</th><th>monthly_rent</th></tr><tr><td>str</td><td>str</td><td>str</td><td>str</td><td>str</td><td>str</td></tr></thead><tbody><tr><td>&quot;2024-03-01&quot;</td><td>&quot;ANG MO KIO&quot;</td><td>&quot;411&quot;</td><td>&quot;ANG MO KIO AVE…</td><td>&quot;4-ROOM&quot;</td><td>&quot;2100&quot;</td></tr><tr><td>&quot;2024-03-01&quot;</td><td>&quot;KALLANG/WHAMPO…</td><td>&quot;38C&quot;</td><td>&quot;BENDEMEER RD&quot;</td><td>&quot;4-ROOM&quot;</td><td>&quot;3500&quot;</td></tr><tr><td>&quot;2024-03-01&quot;</td><td>&quot;BUKIT MERAH&quot;</td><td>&quot;17A&quot;</td><td>&quot;TELOK BLANGAH …</td><td>&quot;4-ROOM&quot;</td><td>&quot;4000&quot;</td></tr><tr><td>&quot;2024-03-01&quot;</td><td>&quot;CLEMENTI&quot;</td><td>&quot;434&quot;</td><td>&quot;CLEMENTI AVE 3…</td><td>&quot;3-ROOM&quot;</td><td>&quot;2800&quot;</td></tr><tr><td>&quot;2024-03-01&quot;</td><td>&quot;YISHUN&quot;</td><td>&quot;742&quot;</td><td>&quot;YISHUN AVE 5&quot;</td><td>&quot;3-ROOM&quot;</td><td>&quot;2800&quot;</td></tr></tbody></table></div>"
      ],
      "text/plain": [
       "shape: (5, 6)\n",
       "┌────────────────────┬─────────────────┬───────┬────────────────────┬───────────┬──────────────┐\n",
       "│ rent_approval_date ┆ town            ┆ block ┆ street_name        ┆ flat_type ┆ monthly_rent │\n",
       "│ ---                ┆ ---             ┆ ---   ┆ ---                ┆ ---       ┆ ---          │\n",
       "│ str                ┆ str             ┆ str   ┆ str                ┆ str       ┆ str          │\n",
       "╞════════════════════╪═════════════════╪═══════╪════════════════════╪═══════════╪══════════════╡\n",
       "│ 2024-03-01         ┆ ANG MO KIO      ┆ 411   ┆ ANG MO KIO AVE 10  ┆ 4-ROOM    ┆ 2100         │\n",
       "│ 2024-03-01         ┆ KALLANG/WHAMPOA ┆ 38C   ┆ BENDEMEER RD       ┆ 4-ROOM    ┆ 3500         │\n",
       "│ 2024-03-01         ┆ BUKIT MERAH     ┆ 17A   ┆ TELOK BLANGAH CRES ┆ 4-ROOM    ┆ 4000         │\n",
       "│ 2024-03-01         ┆ CLEMENTI        ┆ 434   ┆ CLEMENTI AVE 3     ┆ 3-ROOM    ┆ 2800         │\n",
       "│ 2024-03-01         ┆ YISHUN          ┆ 742   ┆ YISHUN AVE 5       ┆ 3-ROOM    ┆ 2800         │\n",
       "└────────────────────┴─────────────────┴───────┴────────────────────┴───────────┴──────────────┘"
      ]
     },
     "execution_count": 7,
     "metadata": {},
     "output_type": "execute_result"
    }
   ],
   "source": [
    "df = pl.read_parquet('../data/rental.parquet.parquet')\n",
    "df.head()"
   ]
  },
  {
   "cell_type": "code",
   "execution_count": null,
   "metadata": {},
   "outputs": [],
   "source": []
  }
 ],
 "metadata": {
  "kernelspec": {
   "display_name": "hdb",
   "language": "python",
   "name": "python3"
  },
  "language_info": {
   "codemirror_mode": {
    "name": "ipython",
    "version": 3
   },
   "file_extension": ".py",
   "mimetype": "text/x-python",
   "name": "python",
   "nbconvert_exporter": "python",
   "pygments_lexer": "ipython3",
   "version": "3.11.8"
  }
 },
 "nbformat": 4,
 "nbformat_minor": 2
}
