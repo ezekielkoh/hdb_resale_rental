{
 "cells": [
  {
   "cell_type": "code",
   "execution_count": 1,
   "metadata": {},
   "outputs": [],
   "source": [
    "%load_ext autoreload\n",
    "%autoreload 2"
   ]
  },
  {
   "cell_type": "code",
   "execution_count": 2,
   "metadata": {},
   "outputs": [],
   "source": [
    "import sys \n",
    "sys.path.append('../')"
   ]
  },
  {
   "cell_type": "code",
   "execution_count": 3,
   "metadata": {},
   "outputs": [],
   "source": [
    "import polars as pl"
   ]
  },
  {
   "cell_type": "code",
   "execution_count": 21,
   "metadata": {},
   "outputs": [
    {
     "data": {
      "text/html": [
       "<div><style>\n",
       ".dataframe > thead > tr,\n",
       ".dataframe > tbody > tr {\n",
       "  text-align: right;\n",
       "  white-space: pre-wrap;\n",
       "}\n",
       "</style>\n",
       "<small>shape: (5, 6)</small><table border=\"1\" class=\"dataframe\"><thead><tr><th>rent_approval_date</th><th>town</th><th>block</th><th>street_name</th><th>flat_type</th><th>monthly_rent</th></tr><tr><td>date</td><td>str</td><td>str</td><td>str</td><td>str</td><td>i64</td></tr></thead><tbody><tr><td>2024-03-01</td><td>&quot;ANG MO KIO&quot;</td><td>&quot;411&quot;</td><td>&quot;ANG MO KIO AVE 10&quot;</td><td>&quot;4-ROOM&quot;</td><td>2100</td></tr><tr><td>2024-03-01</td><td>&quot;KALLANG/WHAMPOA&quot;</td><td>&quot;38C&quot;</td><td>&quot;BENDEMEER RD&quot;</td><td>&quot;4-ROOM&quot;</td><td>3500</td></tr><tr><td>2024-03-01</td><td>&quot;BUKIT MERAH&quot;</td><td>&quot;17A&quot;</td><td>&quot;TELOK BLANGAH CRES&quot;</td><td>&quot;4-ROOM&quot;</td><td>4000</td></tr><tr><td>2024-03-01</td><td>&quot;CLEMENTI&quot;</td><td>&quot;434&quot;</td><td>&quot;CLEMENTI AVE 3&quot;</td><td>&quot;3-ROOM&quot;</td><td>2800</td></tr><tr><td>2024-03-01</td><td>&quot;YISHUN&quot;</td><td>&quot;742&quot;</td><td>&quot;YISHUN AVE 5&quot;</td><td>&quot;3-ROOM&quot;</td><td>2800</td></tr></tbody></table></div>"
      ],
      "text/plain": [
       "shape: (5, 6)\n",
       "┌────────────────────┬─────────────────┬───────┬────────────────────┬───────────┬──────────────┐\n",
       "│ rent_approval_date ┆ town            ┆ block ┆ street_name        ┆ flat_type ┆ monthly_rent │\n",
       "│ ---                ┆ ---             ┆ ---   ┆ ---                ┆ ---       ┆ ---          │\n",
       "│ date               ┆ str             ┆ str   ┆ str                ┆ str       ┆ i64          │\n",
       "╞════════════════════╪═════════════════╪═══════╪════════════════════╪═══════════╪══════════════╡\n",
       "│ 2024-03-01         ┆ ANG MO KIO      ┆ 411   ┆ ANG MO KIO AVE 10  ┆ 4-ROOM    ┆ 2100         │\n",
       "│ 2024-03-01         ┆ KALLANG/WHAMPOA ┆ 38C   ┆ BENDEMEER RD       ┆ 4-ROOM    ┆ 3500         │\n",
       "│ 2024-03-01         ┆ BUKIT MERAH     ┆ 17A   ┆ TELOK BLANGAH CRES ┆ 4-ROOM    ┆ 4000         │\n",
       "│ 2024-03-01         ┆ CLEMENTI        ┆ 434   ┆ CLEMENTI AVE 3     ┆ 3-ROOM    ┆ 2800         │\n",
       "│ 2024-03-01         ┆ YISHUN          ┆ 742   ┆ YISHUN AVE 5       ┆ 3-ROOM    ┆ 2800         │\n",
       "└────────────────────┴─────────────────┴───────┴────────────────────┴───────────┴──────────────┘"
      ]
     },
     "execution_count": 21,
     "metadata": {},
     "output_type": "execute_result"
    }
   ],
   "source": [
    "df = pl.read_parquet('../data/rental.parquet.parquet')\n",
    "df = df.cast({'monthly_rent':pl.Int64, 'rent_approval_date':pl.Date})\n",
    "df.head()"
   ]
  },
  {
   "cell_type": "code",
   "execution_count": 25,
   "metadata": {},
   "outputs": [
    {
     "data": {
      "text/html": [
       "<div><style>\n",
       ".dataframe > thead > tr,\n",
       ".dataframe > tbody > tr {\n",
       "  text-align: right;\n",
       "  white-space: pre-wrap;\n",
       "}\n",
       "</style>\n",
       "<small>shape: (5, 2)</small><table border=\"1\" class=\"dataframe\"><thead><tr><th>rent_approval_date</th><th>avg_rent</th></tr><tr><td>date</td><td>f64</td></tr></thead><tbody><tr><td>2024-07-01</td><td>3100.0</td></tr><tr><td>2024-06-01</td><td>3100.0</td></tr><tr><td>2024-05-01</td><td>3100.0</td></tr><tr><td>2024-04-01</td><td>3100.0</td></tr><tr><td>2024-03-01</td><td>3100.0</td></tr></tbody></table></div>"
      ],
      "text/plain": [
       "shape: (5, 2)\n",
       "┌────────────────────┬──────────┐\n",
       "│ rent_approval_date ┆ avg_rent │\n",
       "│ ---                ┆ ---      │\n",
       "│ date               ┆ f64      │\n",
       "╞════════════════════╪══════════╡\n",
       "│ 2024-07-01         ┆ 3100.0   │\n",
       "│ 2024-06-01         ┆ 3100.0   │\n",
       "│ 2024-05-01         ┆ 3100.0   │\n",
       "│ 2024-04-01         ┆ 3100.0   │\n",
       "│ 2024-03-01         ┆ 3100.0   │\n",
       "└────────────────────┴──────────┘"
      ]
     },
     "execution_count": 25,
     "metadata": {},
     "output_type": "execute_result"
    }
   ],
   "source": [
    "town_df = df.filter((df['town']=='CENTRAL') & (df['flat_type']=='5-ROOM'))\n",
    "town_df.group_by(['rent_approval_date']).agg(avg_rent=df['monthly_rent'].median()).sort(by='rent_approval_date',descending=True)"
   ]
  },
  {
   "cell_type": "code",
   "execution_count": null,
   "metadata": {},
   "outputs": [],
   "source": []
  }
 ],
 "metadata": {
  "kernelspec": {
   "display_name": "pyhdb",
   "language": "python",
   "name": "python3"
  },
  "language_info": {
   "codemirror_mode": {
    "name": "ipython",
    "version": 3
   },
   "file_extension": ".py",
   "mimetype": "text/x-python",
   "name": "python",
   "nbconvert_exporter": "python",
   "pygments_lexer": "ipython3",
   "version": "3.11.8"
  }
 },
 "nbformat": 4,
 "nbformat_minor": 2
}
