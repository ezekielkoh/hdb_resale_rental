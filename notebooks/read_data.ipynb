{
 "cells": [
  {
   "cell_type": "code",
   "execution_count": 1,
   "metadata": {},
   "outputs": [],
   "source": [
    "%load_ext autoreload\n",
    "%autoreload 2"
   ]
  },
  {
   "cell_type": "code",
   "execution_count": 2,
   "metadata": {},
   "outputs": [],
   "source": [
    "import sys \n",
    "sys.path.append('../')"
   ]
  },
  {
   "cell_type": "code",
   "execution_count": 2,
   "metadata": {},
   "outputs": [],
   "source": [
    "import polars as pl"
   ]
  },
  {
   "cell_type": "markdown",
   "metadata": {},
   "source": [
    "# Rental Data"
   ]
  },
  {
   "cell_type": "code",
   "execution_count": 5,
   "metadata": {},
   "outputs": [
    {
     "data": {
      "text/html": [
       "<div><style>\n",
       ".dataframe > thead > tr,\n",
       ".dataframe > tbody > tr {\n",
       "  text-align: right;\n",
       "  white-space: pre-wrap;\n",
       "}\n",
       "</style>\n",
       "<small>shape: (5, 6)</small><table border=\"1\" class=\"dataframe\"><thead><tr><th>rent_approval_date</th><th>town</th><th>block</th><th>street_name</th><th>flat_type</th><th>monthly_rent</th></tr><tr><td>date</td><td>str</td><td>str</td><td>str</td><td>str</td><td>i64</td></tr></thead><tbody><tr><td>2025-01-01</td><td>&quot;CHOA CHU KANG&quot;</td><td>&quot;684A&quot;</td><td>&quot;CHOA CHU KANG CRES&quot;</td><td>&quot;5-ROOM&quot;</td><td>2100</td></tr><tr><td>2025-01-01</td><td>&quot;JURONG WEST&quot;</td><td>&quot;604&quot;</td><td>&quot;JURONG WEST ST 62&quot;</td><td>&quot;EXECUTIVE&quot;</td><td>4700</td></tr><tr><td>2025-01-01</td><td>&quot;BEDOK&quot;</td><td>&quot;508&quot;</td><td>&quot;BEDOK NTH AVE 3&quot;</td><td>&quot;4-ROOM&quot;</td><td>2800</td></tr><tr><td>2025-01-01</td><td>&quot;JURONG EAST&quot;</td><td>&quot;114&quot;</td><td>&quot;JURONG EAST ST 13&quot;</td><td>&quot;3-ROOM&quot;</td><td>3200</td></tr><tr><td>2025-01-01</td><td>&quot;BUKIT BATOK&quot;</td><td>&quot;363&quot;</td><td>&quot;BT BATOK ST 31&quot;</td><td>&quot;4-ROOM&quot;</td><td>3000</td></tr></tbody></table></div>"
      ],
      "text/plain": [
       "shape: (5, 6)\n",
       "┌────────────────────┬───────────────┬───────┬────────────────────┬───────────┬──────────────┐\n",
       "│ rent_approval_date ┆ town          ┆ block ┆ street_name        ┆ flat_type ┆ monthly_rent │\n",
       "│ ---                ┆ ---           ┆ ---   ┆ ---                ┆ ---       ┆ ---          │\n",
       "│ date               ┆ str           ┆ str   ┆ str                ┆ str       ┆ i64          │\n",
       "╞════════════════════╪═══════════════╪═══════╪════════════════════╪═══════════╪══════════════╡\n",
       "│ 2025-01-01         ┆ CHOA CHU KANG ┆ 684A  ┆ CHOA CHU KANG CRES ┆ 5-ROOM    ┆ 2100         │\n",
       "│ 2025-01-01         ┆ JURONG WEST   ┆ 604   ┆ JURONG WEST ST 62  ┆ EXECUTIVE ┆ 4700         │\n",
       "│ 2025-01-01         ┆ BEDOK         ┆ 508   ┆ BEDOK NTH AVE 3    ┆ 4-ROOM    ┆ 2800         │\n",
       "│ 2025-01-01         ┆ JURONG EAST   ┆ 114   ┆ JURONG EAST ST 13  ┆ 3-ROOM    ┆ 3200         │\n",
       "│ 2025-01-01         ┆ BUKIT BATOK   ┆ 363   ┆ BT BATOK ST 31     ┆ 4-ROOM    ┆ 3000         │\n",
       "└────────────────────┴───────────────┴───────┴────────────────────┴───────────┴──────────────┘"
      ]
     },
     "execution_count": 5,
     "metadata": {},
     "output_type": "execute_result"
    }
   ],
   "source": [
    "df = pl.read_parquet('../data/rental.parquet')\n",
    "df = df.cast({'monthly_rent':pl.Int64, 'rent_approval_date':pl.Date})\n",
    "df.tail()"
   ]
  },
  {
   "cell_type": "code",
   "execution_count": 25,
   "metadata": {},
   "outputs": [
    {
     "data": {
      "text/html": [
       "<div><style>\n",
       ".dataframe > thead > tr,\n",
       ".dataframe > tbody > tr {\n",
       "  text-align: right;\n",
       "  white-space: pre-wrap;\n",
       "}\n",
       "</style>\n",
       "<small>shape: (5, 2)</small><table border=\"1\" class=\"dataframe\"><thead><tr><th>rent_approval_date</th><th>avg_rent</th></tr><tr><td>date</td><td>f64</td></tr></thead><tbody><tr><td>2024-07-01</td><td>3100.0</td></tr><tr><td>2024-06-01</td><td>3100.0</td></tr><tr><td>2024-05-01</td><td>3100.0</td></tr><tr><td>2024-04-01</td><td>3100.0</td></tr><tr><td>2024-03-01</td><td>3100.0</td></tr></tbody></table></div>"
      ],
      "text/plain": [
       "shape: (5, 2)\n",
       "┌────────────────────┬──────────┐\n",
       "│ rent_approval_date ┆ avg_rent │\n",
       "│ ---                ┆ ---      │\n",
       "│ date               ┆ f64      │\n",
       "╞════════════════════╪══════════╡\n",
       "│ 2024-07-01         ┆ 3100.0   │\n",
       "│ 2024-06-01         ┆ 3100.0   │\n",
       "│ 2024-05-01         ┆ 3100.0   │\n",
       "│ 2024-04-01         ┆ 3100.0   │\n",
       "│ 2024-03-01         ┆ 3100.0   │\n",
       "└────────────────────┴──────────┘"
      ]
     },
     "execution_count": 25,
     "metadata": {},
     "output_type": "execute_result"
    }
   ],
   "source": [
    "town_df = df.filter((df['town']=='CENTRAL') & (df['flat_type']=='5-ROOM'))\n",
    "town_df.group_by(['rent_approval_date']).agg(avg_rent=df['monthly_rent'].median()).sort(by='rent_approval_date',descending=True)"
   ]
  },
  {
   "cell_type": "markdown",
   "metadata": {},
   "source": [
    "# Resale Data"
   ]
  },
  {
   "cell_type": "code",
   "execution_count": 8,
   "metadata": {},
   "outputs": [
    {
     "data": {
      "text/plain": [
       "datetime.datetime(2025, 2, 1, 0, 0)"
      ]
     },
     "execution_count": 8,
     "metadata": {},
     "output_type": "execute_result"
    }
   ],
   "source": [
    "resale_df = pl.read_parquet('../data/resale.parquet')\n",
    "resale_df = resale_df.with_columns(\n",
    "    month = pl.col('month').str.to_datetime('%Y-%m-%d')\n",
    ")\n",
    "resale_df['month'].max()"
   ]
  },
  {
   "cell_type": "code",
   "execution_count": null,
   "metadata": {},
   "outputs": [],
   "source": []
  }
 ],
 "metadata": {
  "kernelspec": {
   "display_name": "pyhdb",
   "language": "python",
   "name": "python3"
  },
  "language_info": {
   "codemirror_mode": {
    "name": "ipython",
    "version": 3
   },
   "file_extension": ".py",
   "mimetype": "text/x-python",
   "name": "python",
   "nbconvert_exporter": "python",
   "pygments_lexer": "ipython3",
   "version": "3.11.8"
  }
 },
 "nbformat": 4,
 "nbformat_minor": 2
}
